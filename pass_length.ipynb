{
 "cells": [
  {
   "cell_type": "markdown",
   "metadata": {},
   "source": [
    "## Average pass length"
   ]
  },
  {
   "cell_type": "code",
   "execution_count": 2,
   "metadata": {},
   "outputs": [],
   "source": [
    "# Imports \n",
    "import csv\n",
    "import pandas as pd\n",
    "import seaborn as sns\n",
    "import numpy as np\n",
    "import matplotlib.pyplot as plt"
   ]
  },
  {
   "cell_type": "code",
   "execution_count": 3,
   "metadata": {},
   "outputs": [],
   "source": [
    "#import all the seasons\n",
    "damallsvenskan = pd.read_csv('csv/damallsvenskan_all.csv')\n",
    "allsvenskan = pd.read_csv('csv/allsvenskan_all.csv')"
   ]
  },
  {
   "cell_type": "code",
   "execution_count": 4,
   "metadata": {},
   "outputs": [
    {
     "name": "stdout",
     "output_type": "stream",
     "text": [
      "498218\n",
      "11251448.614551177\n",
      "Average  22.58338441114367\n"
     ]
    }
   ],
   "source": [
    "#Get the average length of a pass\n",
    "\n",
    "total_pass_length_damallsvenskan = damallsvenskan[damallsvenskan['action'] == 'Pass accurate']\n",
    "totalpasses = 0\n",
    "pass_length_tot = 0\n",
    "for index, row in total_pass_length_damallsvenskan.iterrows():\n",
    "  pass_length_tot += ((row[\"xpos\"] - row[\"xdest\"])**2 + (row[\"ypos\"] - row[\"ydest\"])**2)**0.5\n",
    "  totalpasses += 1\n",
    "\n",
    "print(totalpasses)\n",
    "print(pass_length_tot)\n",
    "print(\"Average \" , pass_length_tot / totalpasses)"
   ]
  },
  {
   "cell_type": "code",
   "execution_count": 5,
   "metadata": {},
   "outputs": [
    {
     "name": "stdout",
     "output_type": "stream",
     "text": [
      "972220\n",
      "22924705.88712539\n",
      "Average  23.57975138047499\n"
     ]
    }
   ],
   "source": [
    "#Get the average length of a pass\n",
    "\n",
    "total_pass_length_allsvenskan = allsvenskan[allsvenskan['action'] == 'Pass accurate']\n",
    "totalpasses = 0\n",
    "pass_length_tot = 0\n",
    "for index, row in total_pass_length_allsvenskan.iterrows():\n",
    "  pass_length_tot += ((row[\"xpos\"] - row[\"xdest\"])**2 + (row[\"ypos\"] - row[\"ydest\"])**2)**0.5\n",
    "  totalpasses += 1\n",
    "\n",
    "print(totalpasses)\n",
    "print(pass_length_tot)\n",
    "print(\"Average \" , pass_length_tot / totalpasses)\n"
   ]
  },
  {
   "cell_type": "markdown",
   "metadata": {},
   "source": [
    "# Pass Flow motifs - Damallsvenskan"
   ]
  },
  {
   "cell_type": "code",
   "execution_count": 6,
   "metadata": {},
   "outputs": [
    {
     "name": "stdout",
     "output_type": "stream",
     "text": [
      "Total pass flow motives:  165187\n",
      "Abab:  3905\n",
      "Abac:  26637\n",
      "Abca:  11777\n",
      "Abcb:  15456\n",
      "Abcd:  107412\n",
      "Procentages: \n"
     ]
    }
   ],
   "source": [
    "# Five possible flow motifs involving 3 passes:\n",
    "# ABAB ABAC ABCA ABCB ABCD\n",
    "\n",
    "successful_passes = 0\n",
    "playerlist = []\n",
    "total_pass_flow_motives = 0\n",
    "Abab = 0\n",
    "Abac = 0\n",
    "Abca = 0\n",
    "Abcb = 0\n",
    "Abcd = 0\n",
    "for index, row in damallsvenskan.iterrows():\n",
    "  if row[\"action\"] == \"Pass accurate\":\n",
    "    if successful_passes == 0:\n",
    "      playerlist.append(row[\"player\"])\n",
    "      playerlist.append(row[\"next_player\"])\n",
    "    else:\n",
    "      playerlist.append(row[\"next_player\"])\n",
    "    successful_passes += 1\n",
    "  else:\n",
    "    successful_passes = 0\n",
    "    playerlist = []\n",
    "  if successful_passes >= 3:\n",
    "    total_pass_flow_motives += 1\n",
    "    if playerlist[2] == playerlist[0] and playerlist[1] == playerlist[3]:\n",
    "      Abab += 1\n",
    "    elif playerlist[0] == playerlist[2] and playerlist[1] != playerlist[3]:\n",
    "      Abac += 1 \n",
    "    elif playerlist[0] == playerlist[3]:\n",
    "      Abca += 1\n",
    "    elif playerlist[1] == playerlist[3]:\n",
    "      Abcb += 1\n",
    "    else:\n",
    "      Abcd += 1\n",
    "    playerlist.pop()\n",
    "\n",
    "print (\"Total pass flow motives: \" , total_pass_flow_motives)\n",
    "print(\"Abab: \" , Abab)\n",
    "print(\"Abac: \" , Abac)\n",
    "print(\"Abca: \" , Abca)\n",
    "print(\"Abcb: \" , Abcb)\n",
    "print(\"Abcd: \" , Abcd)  \n",
    "print(\"Procentages: \" )\n"
   ]
  },
  {
   "cell_type": "code",
   "execution_count": 7,
   "metadata": {},
   "outputs": [
    {
     "name": "stdout",
     "output_type": "stream",
     "text": [
      "\n",
      "  Pass flow motive       ABAB      ABAC      ABCA       ABCB      ABCD\n",
      "------------------  ---------  --------  --------  ---------  --------\n",
      "Amount of passes    3905       26637     11777     15456      107412\n",
      "% of passes         0.0236399  0.161254  0.071295  0.0935667  0.650245\n"
     ]
    },
    {
     "data": {
      "image/png": "[encoded data removed]",
      "text/plain": [
       "<Figure size 432x288 with 1 Axes>"
      ]
     },
     "metadata": {},
     "output_type": "display_data"
    }
   ],
   "source": [
    "#plot the data\n",
    "from tabulate import tabulate\n",
    "print()\n",
    "table = [['Pass flow motive','ABAB', 'ABAC', 'ABCA', 'ABCB', 'ABCD'], ['Amount of passes', Abab,Abac,Abca,Abcb,Abcd], [\"% of passes\" ,Abab/total_pass_flow_motives,Abac/total_pass_flow_motives,Abca/total_pass_flow_motives,Abcb/total_pass_flow_motives,Abcd/total_pass_flow_motives]]\n",
    "print(tabulate(table, headers='firstrow', tablefmt='simple_grid', colalign='center'))\n",
    "\n",
    "y = np.array([Abab/total_pass_flow_motives,Abac/total_pass_flow_motives,Abca/total_pass_flow_motives,Abcb/total_pass_flow_motives,Abcd/total_pass_flow_motives])\n",
    "mylabels = [\"ABAB\", \"ABAC\", \"ABCA\", \"ABCB\", \"ABCD\"]\n",
    "plt.title(\"Damallsvenskan 2017-2022\")\n",
    "plt.pie(y, labels = mylabels, startangle = 90)\n",
    "plt.show() \n"
   ]
  },
  {
   "cell_type": "markdown",
   "metadata": {},
   "source": [
    "## Pass flow motive - Herrallsvenskan"
   ]
  },
  {
   "cell_type": "code",
   "execution_count": 8,
   "metadata": {},
   "outputs": [
    {
     "name": "stdout",
     "output_type": "stream",
     "text": [
      "Total pass flow motives:  425042\n",
      "Abab:  9616\n",
      "Abac:  69792\n",
      "Abca:  30483\n",
      "Abcb:  40656\n",
      "Abcd:  274495\n",
      "Procentages: \n"
     ]
    }
   ],
   "source": [
    "# Five possible flow motifs involving 3 passes:\n",
    "# ABAB ABAC ABCA ABCB ABCD\n",
    "\n",
    "successful_passes = 0\n",
    "playerlist = []\n",
    "total_pass_flow_motives = 0\n",
    "Abab = 0\n",
    "Abac = 0\n",
    "Abca = 0\n",
    "Abcb = 0\n",
    "Abcd = 0\n",
    "for index, row in allsvenskan.iterrows():\n",
    "  if row[\"action\"] == \"Pass accurate\":\n",
    "    if successful_passes == 0:\n",
    "      playerlist.append(row[\"player\"])\n",
    "      playerlist.append(row[\"next_player\"])\n",
    "    else:\n",
    "      playerlist.append(row[\"next_player\"])\n",
    "    successful_passes += 1\n",
    "  else:\n",
    "    successful_passes = 0\n",
    "    playerlist = []\n",
    "  if successful_passes >= 3:\n",
    "    total_pass_flow_motives += 1\n",
    "    if playerlist[2] == playerlist[0] and playerlist[1] == playerlist[3]:\n",
    "      Abab += 1\n",
    "    elif playerlist[0] == playerlist[2] and playerlist[1] != playerlist[3]:\n",
    "      Abac += 1 \n",
    "    elif playerlist[0] == playerlist[3]:\n",
    "      Abca += 1\n",
    "    elif playerlist[1] == playerlist[3]:\n",
    "      Abcb += 1\n",
    "    else:\n",
    "      Abcd += 1\n",
    "    playerlist.pop()\n",
    "\n",
    "print (\"Total pass flow motives: \" , total_pass_flow_motives)\n",
    "print(\"Abab: \" , Abab)\n",
    "print(\"Abac: \" , Abac)\n",
    "print(\"Abca: \" , Abca)\n",
    "print(\"Abcb: \" , Abcb)\n",
    "print(\"Abcd: \" , Abcd)  \n",
    "print(\"Procentages: \" )"
   ]
  },
  {
   "cell_type": "code",
   "execution_count": 56,
   "metadata": {},
   "outputs": [
    {
     "name": "stdout",
     "output_type": "stream",
     "text": [
      "\n",
      "  Pass flow motive       ABAB    ABAC       ABCA       ABCB      ABCD\n",
      "------------------  ---------  ------  ---------  ---------  --------\n",
      "Amount of passes    9616       69792   30483      40656      274495\n",
      "% of passes         0.0226236  0.1642  0.0717176  0.0956517  0.645807\n"
     ]
    },
    {
     "data": {
      "image/png": "[encoded data removed]",
      "text/plain": [
       "<Figure size 432x288 with 1 Axes>"
      ]
     },
     "metadata": {},
     "output_type": "display_data"
    }
   ],
   "source": [
    "#plot the data\n",
    "from tabulate import tabulate\n",
    "print()\n",
    "table = [['Pass flow motive','ABAB', 'ABAC', 'ABCA', 'ABCB', 'ABCD'], ['Amount of passes', Abab,Abac,Abca,Abcb,Abcd], [\"% of passes\" ,Abab/total_pass_flow_motives,Abac/total_pass_flow_motives,Abca/total_pass_flow_motives,Abcb/total_pass_flow_motives,Abcd/total_pass_flow_motives]]\n",
    "print(tabulate(table, headers='firstrow', tablefmt='simple_grid', colalign='center'))\n",
    "values = [Abab,Abac,Abca,Abcb,Abcd]\n",
    "y = np.array([Abab/total_pass_flow_motives,Abac/total_pass_flow_motives,Abca/total_pass_flow_motives,Abcb/total_pass_flow_motives,Abcd/total_pass_flow_motives])\n",
    "mylabels = [\"ABAB\", \"ABAC\", \"ABCA\", \"ABCB\", \"ABCD\"]\n",
    "\n",
    "def make_autopct(values):\n",
    "    def my_autopct(pct):\n",
    "        total = sum(values)\n",
    "        val = int(round(pct*total/100.0))\n",
    "        return '{p:.2f}%  ({v:d})'.format(p=pct,v=val)\n",
    "    return my_autopct\n",
    "plt.title(\"Herrallsvenskan 2017-2022\", x = -0.5 , y = 0.4)\n",
    "_, texts , autopcts =plt.pie(values, labels = mylabels, startangle = 260, autopct='%1.1f%%', pctdistance=0.6, labeldistance=0.8, radius=1.5, shadow=True)\n",
    "plt.setp(texts, **{'color':'white', 'weight':'bold', 'fontsize':12})\n",
    "\n",
    "plt.show() "
   ]
  }
 ],
 "metadata": {
  "kernelspec": {
   "display_name": "Python 3",
   "language": "python",
   "name": "python3"
  },
  "language_info": {
   "codemirror_mode": {
    "name": "ipython",
    "version": 3
   },
   "file_extension": ".py",
   "mimetype": "text/x-python",
   "name": "python",
   "nbconvert_exporter": "python",
   "pygments_lexer": "ipython3",
   "version": "3.9.12"
  }
 },
 "nbformat": 4,
 "nbformat_minor": 2
}
