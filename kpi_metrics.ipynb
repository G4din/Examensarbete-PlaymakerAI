{
 "cells": [
  {
   "cell_type": "markdown",
   "metadata": {},
   "source": [
    "# KPI Stats"
   ]
  },
  {
   "cell_type": "code",
   "execution_count": 27,
   "metadata": {},
   "outputs": [],
   "source": [
    "import pandas as pd\n",
    "\n",
    "# Load your dataset\n",
    "allsvenskan = pd.read_csv('csv/allsvenskan_all.csv')\n",
    "damallsvenskan = pd.read_csv('csv/damallsvenskan_all.csv')"
   ]
  },
  {
   "cell_type": "markdown",
   "metadata": {},
   "source": [
    "## Pass Accuracy"
   ]
  },
  {
   "cell_type": "code",
   "execution_count": 28,
   "metadata": {},
   "outputs": [
    {
     "name": "stdout",
     "output_type": "stream",
     "text": [
      "Pass Accuracy - Damallsvenskan: 0.7757819044742096\n",
      "Pass Accuracy - Allsvenskan: 0.8385978228992358\n"
     ]
    }
   ],
   "source": [
    "allsvenskan_passes_acc = allsvenskan[allsvenskan['action'] == 'Pass accurate']\n",
    "allsvenskan_passes_inacc = allsvenskan[allsvenskan['action'] == 'Pass inaccurate']\n",
    "\n",
    "damallsvenskan_passes_acc = damallsvenskan[damallsvenskan['action'] == 'Pass accurate']\n",
    "damallsvenskan_passes_inacc = damallsvenskan[damallsvenskan['action'] == 'Pass inaccurate']\n",
    "\n",
    "allsvenskan_pass_acc = len(allsvenskan_passes_acc) / (len(allsvenskan_passes_acc) + len(allsvenskan_passes_inacc))\n",
    "damallsvenskan_pass_acc = len(damallsvenskan_passes_acc) / (len(damallsvenskan_passes_acc) + len(damallsvenskan_passes_inacc))\n",
    "\n",
    "print('Pass Accuracy - Damallsvenskan:', damallsvenskan_pass_acc)\n",
    "print('Pass Accuracy - Allsvenskan:', allsvenskan_pass_acc)"
   ]
  },
  {
   "cell_type": "markdown",
   "metadata": {},
   "source": [
    "## Ball Possession"
   ]
  },
  {
   "cell_type": "code",
   "execution_count": 29,
   "metadata": {},
   "outputs": [
    {
     "name": "stdout",
     "output_type": "stream",
     "text": [
      "Average Possession Time - Damallsvenskan: 35.62468803816295\n",
      "Average Possession Time - Allsvenskan: 42.35783846427036\n"
     ]
    }
   ],
   "source": [
    "def calculate_average_possession(df):\n",
    "    possessions = []\n",
    "    current_team = None\n",
    "    start_time = 0\n",
    "\n",
    "    for index, row in df.iterrows():\n",
    "        if current_team is None:\n",
    "            current_team = row[\"team\"]\n",
    "            start_time = row[\"start_time\"]\n",
    "        else:\n",
    "            if current_team != row[\"team\"] and (row[\"action\"] == \"Pass accurate\"):\n",
    "                time_of_possession = row[\"start_time\"] - start_time\n",
    "                if time_of_possession > 0:\n",
    "                    possessions.append(time_of_possession)\n",
    "                current_team = row[\"team\"]\n",
    "                start_time = row[\"start_time\"]\n",
    "\n",
    "    average_possession = sum(possessions) / len(possessions) if possessions else 0\n",
    "    return average_possession\n",
    "\n",
    "average_possession_damallsvenskan = calculate_average_possession(damallsvenskan)\n",
    "average_possession_allsvenskan = calculate_average_possession(allsvenskan)\n",
    "\n",
    "print(f\"Average Possession Time - Damallsvenskan: {average_possession_damallsvenskan}\")\n",
    "print(f\"Average Possession Time - Allsvenskan: {average_possession_allsvenskan}\")"
   ]
  },
  {
   "cell_type": "markdown",
   "metadata": {},
   "source": [
    "## Pass Length"
   ]
  },
  {
   "cell_type": "code",
   "execution_count": 30,
   "metadata": {},
   "outputs": [
    {
     "name": "stdout",
     "output_type": "stream",
     "text": [
      "Average Pass Length - Damallsvenskan: 22.58338441114367\n",
      "Average Pass Length - Allsvenskan: 23.57975138047499\n"
     ]
    }
   ],
   "source": [
    "def calculate_pass_lenth(df):\n",
    "    totalpasses = 0\n",
    "    pass_length_tot = 0\n",
    "    for index, row in df.iterrows():\n",
    "        pass_length_tot += ((row[\"xpos\"] - row[\"xdest\"])**2 + (row[\"ypos\"] - row[\"ydest\"])**2)**0.5\n",
    "        totalpasses += 1\n",
    "\n",
    "    return pass_length_tot / totalpasses\n",
    "\n",
    "pass_length_damallsvenskan = calculate_pass_lenth(damallsvenskan_passes_acc)\n",
    "pass_length_allsvenskan = calculate_pass_lenth(allsvenskan_passes_acc)\n",
    "\n",
    "print(f\"Average Pass Length - Damallsvenskan: {pass_length_damallsvenskan}\")\n",
    "print(f\"Average Pass Length - Allsvenskan: {pass_length_allsvenskan}\")"
   ]
  },
  {
   "cell_type": "markdown",
   "metadata": {},
   "source": [
    "## Passing Chains"
   ]
  },
  {
   "cell_type": "code",
   "execution_count": 31,
   "metadata": {},
   "outputs": [
    {
     "name": "stdout",
     "output_type": "stream",
     "text": [
      "Average Passing Chains - Damallsvenskan: 16.843849760119667\n",
      "Average Passing Chains - Allsvenskan: 18.775687694790395\n"
     ]
    }
   ],
   "source": [
    "def calculate_passing_chains(df):\n",
    "    chains = []\n",
    "    current_team = None\n",
    "    current_chain = 0\n",
    "\n",
    "    for index, row in df.iterrows():\n",
    "        if current_team is None:\n",
    "            current_team = row[\"team\"]\n",
    "            current_chain = 1\n",
    "        else:\n",
    "            if current_team != row[\"team\"] and (row[\"action\"] == \"Pass accurate\"):\n",
    "                chains.append(current_chain)\n",
    "                current_team = row[\"team\"]\n",
    "                current_chain = 1\n",
    "            else:\n",
    "                current_chain += 1\n",
    "\n",
    "    # To avoid ZeroDivisionError in case chains is empty\n",
    "    average_chain = sum(chains) / len(chains) if chains else 0\n",
    "    return average_chain\n",
    "\n",
    "average_chain_damallsvenskan = calculate_passing_chains(damallsvenskan)\n",
    "average_chain_allsvenskan = calculate_passing_chains(allsvenskan)\n",
    "\n",
    "print(f\"Average Passing Chains - Damallsvenskan: {average_chain_damallsvenskan}\")\n",
    "print(f\"Average Passing Chains - Allsvenskan: {average_chain_allsvenskan}\")"
   ]
  },
  {
   "cell_type": "markdown",
   "metadata": {},
   "source": [
    "## Fouls"
   ]
  },
  {
   "cell_type": "code",
   "execution_count": 32,
   "metadata": {},
   "outputs": [
    {
     "name": "stdout",
     "output_type": "stream",
     "text": [
      "Average Fouls - Damallsvenskan: 7.856338028169014\n",
      "Average Fouls - Allsvenskan: 11.397083333333333\n"
     ]
    }
   ],
   "source": [
    "damallsvenskan_factor = 264 + 264 + 264 + 264 + 364\n",
    "allsvenskan_factor = 480 + 480 + 480 + 480 + 480\n",
    "\n",
    "fouls_damallsvenskan = damallsvenskan[damallsvenskan['action'] == 'Foul'].shape[0]\n",
    "fouls_allsvenskan = allsvenskan[allsvenskan['action'] == 'Foul'].shape[0]\n",
    "\n",
    "fouls_damallsvenskan = fouls_damallsvenskan / damallsvenskan_factor\n",
    "fouls_allsvenskan = fouls_allsvenskan / allsvenskan_factor\n",
    "\n",
    "print(f\"Average Fouls - Damallsvenskan: {fouls_damallsvenskan}\")\n",
    "print(f\"Average Fouls - Allsvenskan: {fouls_allsvenskan}\")"
   ]
  },
  {
   "cell_type": "markdown",
   "metadata": {},
   "source": [
    "## Cards"
   ]
  },
  {
   "cell_type": "code",
   "execution_count": 34,
   "metadata": {},
   "outputs": [
    {
     "name": "stdout",
     "output_type": "stream",
     "text": [
      "Average Yellow Cards - Damallsvenskan: 0.7795774647887324\n",
      "Average Red Cards - Damallsvenskan: 0.02676056338028169\n",
      "Average Yellow Cards - Allsvenskan: 1.73375\n",
      "Average Red Cards - Allsvenskan: 0.057916666666666665\n"
     ]
    }
   ],
   "source": [
    "yellow_cards_damallsvenskan = damallsvenskan[damallsvenskan['action'] == 'Yellow card'].shape[0]\n",
    "red_cards_damallsvenskan = damallsvenskan[damallsvenskan['action'] == 'Red card'].shape[0]\n",
    "\n",
    "yellow_cards_allsvenskan = allsvenskan[allsvenskan['action'] == 'Yellow card'].shape[0]\n",
    "red_cards_allsvenskan = allsvenskan[allsvenskan['action'] == 'Red card'].shape[0]\n",
    "\n",
    "yellow_cards_damallsvenskan = yellow_cards_damallsvenskan / damallsvenskan_factor\n",
    "red_cards_damallsvenskan = red_cards_damallsvenskan / damallsvenskan_factor\n",
    "yellow_cards_allsvenskan = yellow_cards_allsvenskan / allsvenskan_factor\n",
    "red_cards_allsvenskan = red_cards_allsvenskan / allsvenskan_factor\n",
    "\n",
    "print(f\"Average Yellow Cards - Damallsvenskan: {yellow_cards_damallsvenskan}\")\n",
    "print(f\"Average Red Cards - Damallsvenskan: {red_cards_damallsvenskan}\")\n",
    "print(f\"Average Yellow Cards - Allsvenskan: {yellow_cards_allsvenskan}\")\n",
    "print(f\"Average Red Cards - Allsvenskan: {red_cards_allsvenskan}\")"
   ]
  },
  {
   "cell_type": "code",
   "execution_count": 36,
   "metadata": {},
   "outputs": [
    {
     "name": "stdout",
     "output_type": "stream",
     "text": [
      "Percentage of Fouls that Lead to Cards - Damallsvenskan: 0.10263535317318034\n",
      "Percentage of Fouls that Lead to Cards - Allsvenskan: 0.1572039630022301\n"
     ]
    }
   ],
   "source": [
    "percentage_cards_damallsvenskan = (yellow_cards_damallsvenskan + red_cards_damallsvenskan) / fouls_damallsvenskan\n",
    "percentage_cards_allsvenskan = (yellow_cards_allsvenskan + red_cards_allsvenskan) / fouls_allsvenskan \n",
    "\n",
    "print(f\"Percentage of Fouls that Lead to Cards - Damallsvenskan: {percentage_cards_damallsvenskan}\")\n",
    "print(f\"Percentage of Fouls that Lead to Cards - Allsvenskan: {percentage_cards_allsvenskan}\")"
   ]
  },
  {
   "cell_type": "markdown",
   "metadata": {},
   "source": [
    "## Dataframe"
   ]
  },
  {
   "cell_type": "code",
   "execution_count": 37,
   "metadata": {},
   "outputs": [
    {
     "data": {
      "text/html": [
       "<div>\n",
       "<style scoped>\n",
       "    .dataframe tbody tr th:only-of-type {\n",
       "        vertical-align: middle;\n",
       "    }\n",
       "\n",
       "    .dataframe tbody tr th {\n",
       "        vertical-align: top;\n",
       "    }\n",
       "\n",
       "    .dataframe thead th {\n",
       "        text-align: right;\n",
       "    }\n",
       "</style>\n",
       "<table border=\"1\" class=\"dataframe\">\n",
       "  <thead>\n",
       "    <tr style=\"text-align: right;\">\n",
       "      <th></th>\n",
       "      <th>League</th>\n",
       "      <th>Pass Accuracy</th>\n",
       "      <th>Average Possession Time</th>\n",
       "      <th>Average Pass Length</th>\n",
       "      <th>Average Passing Chains</th>\n",
       "      <th>Average Fouls</th>\n",
       "      <th>Average Yellow Cards</th>\n",
       "      <th>Average Red Cards</th>\n",
       "      <th>Percentage of Fouls that Lead to Cards</th>\n",
       "    </tr>\n",
       "  </thead>\n",
       "  <tbody>\n",
       "    <tr>\n",
       "      <th>0</th>\n",
       "      <td>Damallsvenskan</td>\n",
       "      <td>0.775782</td>\n",
       "      <td>35.624688</td>\n",
       "      <td>22.583384</td>\n",
       "      <td>16.843850</td>\n",
       "      <td>7.856338</td>\n",
       "      <td>0.779577</td>\n",
       "      <td>0.026761</td>\n",
       "      <td>0.102635</td>\n",
       "    </tr>\n",
       "    <tr>\n",
       "      <th>1</th>\n",
       "      <td>Allsvenskan</td>\n",
       "      <td>0.838598</td>\n",
       "      <td>42.357838</td>\n",
       "      <td>23.579751</td>\n",
       "      <td>18.775688</td>\n",
       "      <td>11.397083</td>\n",
       "      <td>1.733750</td>\n",
       "      <td>0.057917</td>\n",
       "      <td>0.157204</td>\n",
       "    </tr>\n",
       "  </tbody>\n",
       "</table>\n",
       "</div>"
      ],
      "text/plain": [
       "           League  Pass Accuracy  Average Possession Time  \\\n",
       "0  Damallsvenskan       0.775782                35.624688   \n",
       "1     Allsvenskan       0.838598                42.357838   \n",
       "\n",
       "   Average Pass Length  Average Passing Chains  Average Fouls  \\\n",
       "0            22.583384               16.843850       7.856338   \n",
       "1            23.579751               18.775688      11.397083   \n",
       "\n",
       "   Average Yellow Cards  Average Red Cards  \\\n",
       "0              0.779577           0.026761   \n",
       "1              1.733750           0.057917   \n",
       "\n",
       "   Percentage of Fouls that Lead to Cards  \n",
       "0                                0.102635  \n",
       "1                                0.157204  "
      ]
     },
     "execution_count": 37,
     "metadata": {},
     "output_type": "execute_result"
    }
   ],
   "source": [
    "# Put all the data into a dataframe\n",
    "data = {\n",
    "    \"League\": [\"Damallsvenskan\", \"Allsvenskan\"],\n",
    "    \"Pass Accuracy\": [damallsvenskan_pass_acc, allsvenskan_pass_acc],\n",
    "    \"Average Possession Time\": [average_possession_damallsvenskan, average_possession_allsvenskan],\n",
    "    \"Average Pass Length\": [pass_length_damallsvenskan, pass_length_allsvenskan],\n",
    "    \"Average Passing Chains\": [average_chain_damallsvenskan, average_chain_allsvenskan],\n",
    "    \"Average Fouls\": [fouls_damallsvenskan, fouls_allsvenskan],\n",
    "    \"Average Yellow Cards\": [yellow_cards_damallsvenskan, yellow_cards_allsvenskan],\n",
    "    \"Average Red Cards\": [red_cards_damallsvenskan, red_cards_allsvenskan],\n",
    "    \"Percentage of Fouls that Lead to Cards\": [percentage_cards_damallsvenskan, percentage_cards_allsvenskan]\n",
    "}\n",
    "\n",
    "df = pd.DataFrame(data)\n",
    "\n",
    "df.head()"
   ]
  },
  {
   "cell_type": "markdown",
   "metadata": {},
   "source": [
    "## Statistics"
   ]
  },
  {
   "cell_type": "code",
   "execution_count": 39,
   "metadata": {},
   "outputs": [
    {
     "data": {
      "text/html": [
       "<div>\n",
       "<style scoped>\n",
       "    .dataframe tbody tr th:only-of-type {\n",
       "        vertical-align: middle;\n",
       "    }\n",
       "\n",
       "    .dataframe tbody tr th {\n",
       "        vertical-align: top;\n",
       "    }\n",
       "\n",
       "    .dataframe thead tr th {\n",
       "        text-align: left;\n",
       "    }\n",
       "\n",
       "    .dataframe thead tr:last-of-type th {\n",
       "        text-align: right;\n",
       "    }\n",
       "</style>\n",
       "<table border=\"1\" class=\"dataframe\">\n",
       "  <thead>\n",
       "    <tr>\n",
       "      <th></th>\n",
       "      <th colspan=\"3\" halign=\"left\">Pass Accuracy</th>\n",
       "      <th colspan=\"3\" halign=\"left\">Average Possession Time</th>\n",
       "      <th colspan=\"3\" halign=\"left\">Average Pass Length</th>\n",
       "      <th>Average Passing Chains</th>\n",
       "      <th>...</th>\n",
       "      <th>Average Fouls</th>\n",
       "      <th colspan=\"3\" halign=\"left\">Average Yellow Cards</th>\n",
       "      <th colspan=\"3\" halign=\"left\">Average Red Cards</th>\n",
       "      <th colspan=\"3\" halign=\"left\">Percentage of Fouls that Lead to Cards</th>\n",
       "    </tr>\n",
       "    <tr>\n",
       "      <th></th>\n",
       "      <th>mean</th>\n",
       "      <th>median</th>\n",
       "      <th>std</th>\n",
       "      <th>mean</th>\n",
       "      <th>median</th>\n",
       "      <th>std</th>\n",
       "      <th>mean</th>\n",
       "      <th>median</th>\n",
       "      <th>std</th>\n",
       "      <th>mean</th>\n",
       "      <th>...</th>\n",
       "      <th>std</th>\n",
       "      <th>mean</th>\n",
       "      <th>median</th>\n",
       "      <th>std</th>\n",
       "      <th>mean</th>\n",
       "      <th>median</th>\n",
       "      <th>std</th>\n",
       "      <th>mean</th>\n",
       "      <th>median</th>\n",
       "      <th>std</th>\n",
       "    </tr>\n",
       "    <tr>\n",
       "      <th>League</th>\n",
       "      <th></th>\n",
       "      <th></th>\n",
       "      <th></th>\n",
       "      <th></th>\n",
       "      <th></th>\n",
       "      <th></th>\n",
       "      <th></th>\n",
       "      <th></th>\n",
       "      <th></th>\n",
       "      <th></th>\n",
       "      <th></th>\n",
       "      <th></th>\n",
       "      <th></th>\n",
       "      <th></th>\n",
       "      <th></th>\n",
       "      <th></th>\n",
       "      <th></th>\n",
       "      <th></th>\n",
       "      <th></th>\n",
       "      <th></th>\n",
       "      <th></th>\n",
       "    </tr>\n",
       "  </thead>\n",
       "  <tbody>\n",
       "    <tr>\n",
       "      <th>Allsvenskan</th>\n",
       "      <td>0.838598</td>\n",
       "      <td>0.838598</td>\n",
       "      <td>NaN</td>\n",
       "      <td>42.357838</td>\n",
       "      <td>42.357838</td>\n",
       "      <td>NaN</td>\n",
       "      <td>23.579751</td>\n",
       "      <td>23.579751</td>\n",
       "      <td>NaN</td>\n",
       "      <td>18.775688</td>\n",
       "      <td>...</td>\n",
       "      <td>NaN</td>\n",
       "      <td>1.733750</td>\n",
       "      <td>1.733750</td>\n",
       "      <td>NaN</td>\n",
       "      <td>0.057917</td>\n",
       "      <td>0.057917</td>\n",
       "      <td>NaN</td>\n",
       "      <td>0.157204</td>\n",
       "      <td>0.157204</td>\n",
       "      <td>NaN</td>\n",
       "    </tr>\n",
       "    <tr>\n",
       "      <th>Damallsvenskan</th>\n",
       "      <td>0.775782</td>\n",
       "      <td>0.775782</td>\n",
       "      <td>NaN</td>\n",
       "      <td>35.624688</td>\n",
       "      <td>35.624688</td>\n",
       "      <td>NaN</td>\n",
       "      <td>22.583384</td>\n",
       "      <td>22.583384</td>\n",
       "      <td>NaN</td>\n",
       "      <td>16.843850</td>\n",
       "      <td>...</td>\n",
       "      <td>NaN</td>\n",
       "      <td>0.779577</td>\n",
       "      <td>0.779577</td>\n",
       "      <td>NaN</td>\n",
       "      <td>0.026761</td>\n",
       "      <td>0.026761</td>\n",
       "      <td>NaN</td>\n",
       "      <td>0.102635</td>\n",
       "      <td>0.102635</td>\n",
       "      <td>NaN</td>\n",
       "    </tr>\n",
       "  </tbody>\n",
       "</table>\n",
       "<p>2 rows × 24 columns</p>\n",
       "</div>"
      ],
      "text/plain": [
       "               Pass Accuracy               Average Possession Time             \\\n",
       "                        mean    median std                    mean     median   \n",
       "League                                                                          \n",
       "Allsvenskan         0.838598  0.838598 NaN               42.357838  42.357838   \n",
       "Damallsvenskan      0.775782  0.775782 NaN               35.624688  35.624688   \n",
       "\n",
       "                   Average Pass Length                Average Passing Chains  \\\n",
       "               std                mean     median std                   mean   \n",
       "League                                                                         \n",
       "Allsvenskan    NaN           23.579751  23.579751 NaN              18.775688   \n",
       "Damallsvenskan NaN           22.583384  22.583384 NaN              16.843850   \n",
       "\n",
       "                ... Average Fouls Average Yellow Cards                \\\n",
       "                ...           std                 mean    median std   \n",
       "League          ...                                                    \n",
       "Allsvenskan     ...           NaN             1.733750  1.733750 NaN   \n",
       "Damallsvenskan  ...           NaN             0.779577  0.779577 NaN   \n",
       "\n",
       "               Average Red Cards                \\\n",
       "                            mean    median std   \n",
       "League                                           \n",
       "Allsvenskan             0.057917  0.057917 NaN   \n",
       "Damallsvenskan          0.026761  0.026761 NaN   \n",
       "\n",
       "               Percentage of Fouls that Lead to Cards                \n",
       "                                                 mean    median std  \n",
       "League                                                               \n",
       "Allsvenskan                                  0.157204  0.157204 NaN  \n",
       "Damallsvenskan                               0.102635  0.102635 NaN  \n",
       "\n",
       "[2 rows x 24 columns]"
      ]
     },
     "execution_count": 39,
     "metadata": {},
     "output_type": "execute_result"
    }
   ],
   "source": [
    "desc_stats = df.groupby('League').agg(['mean', 'median', 'std'])\n",
    "desc_stats  "
   ]
  },
  {
   "cell_type": "code",
   "execution_count": 41,
   "metadata": {},
   "outputs": [
    {
     "name": "stdout",
     "output_type": "stream",
     "text": [
      "T-test for PassAccuracy: p-value = nan\n"
     ]
    },
    {
     "name": "stderr",
     "output_type": "stream",
     "text": [
      "/Users/g4din/Library/Python/3.9/lib/python/site-packages/scipy/stats/_stats_py.py:6988: RuntimeWarning: invalid value encountered in scalar divide\n",
      "  svar = ((n1 - 1) * v1 + (n2 - 1) * v2) / df\n"
     ]
    }
   ],
   "source": [
    "from scipy.stats import ttest_ind\n",
    "from statsmodels.stats.anova import anova_lm\n",
    "from statsmodels.formula.api import ols\n",
    "\n",
    "# T-test example for PassAccuracy\n",
    "men_pass_accuracy = df[df['League'] == 'Allsvenskan']['Pass Accuracy']\n",
    "women_pass_accuracy = df[df['League'] == 'Damallsvenskan']['Pass Accuracy']\n",
    "t_stat, p_value = ttest_ind(men_pass_accuracy, women_pass_accuracy)\n",
    "\n",
    "print(f\"T-test for PassAccuracy: p-value = {p_value}\")"
   ]
  },
  {
   "cell_type": "code",
   "execution_count": 42,
   "metadata": {},
   "outputs": [
    {
     "name": "stdout",
     "output_type": "stream",
     "text": [
      "Cohen's d for PassAccuracy: nan\n"
     ]
    }
   ],
   "source": [
    "import numpy as np\n",
    "def cohens_d(group1, group2):\n",
    "    # Calculate the size and the mean difference\n",
    "    diff = group1.mean() - group2.mean()\n",
    "    n1, n2 = len(group1), len(group2)\n",
    "    var1, var2 = group1.var(), group2.var()\n",
    "\n",
    "    # Calculate the pooled standard deviation\n",
    "    pooled_std = np.sqrt(((n1 - 1) * var1 + (n2 - 1) * var2) / (n1 + n2 - 2))\n",
    "\n",
    "    # Calculate Cohen's d\n",
    "    d = diff / pooled_std\n",
    "    return d\n",
    "\n",
    "d = cohens_d(men_pass_accuracy, women_pass_accuracy)\n",
    "print(f\"Cohen's d for PassAccuracy: {d}\")"
   ]
  },
  {
   "cell_type": "code",
   "execution_count": 45,
   "metadata": {},
   "outputs": [
    {
     "data": {
      "text/html": [
       "<div>\n",
       "<style scoped>\n",
       "    .dataframe tbody tr th:only-of-type {\n",
       "        vertical-align: middle;\n",
       "    }\n",
       "\n",
       "    .dataframe tbody tr th {\n",
       "        vertical-align: top;\n",
       "    }\n",
       "\n",
       "    .dataframe thead th {\n",
       "        text-align: right;\n",
       "    }\n",
       "</style>\n",
       "<table border=\"1\" class=\"dataframe\">\n",
       "  <thead>\n",
       "    <tr style=\"text-align: right;\">\n",
       "      <th></th>\n",
       "      <th>Pass Accuracy</th>\n",
       "      <th>Average Possession Time</th>\n",
       "      <th>Average Pass Length</th>\n",
       "      <th>Average Passing Chains</th>\n",
       "      <th>Average Fouls</th>\n",
       "      <th>Average Yellow Cards</th>\n",
       "      <th>Average Red Cards</th>\n",
       "      <th>Percentage of Fouls that Lead to Cards</th>\n",
       "    </tr>\n",
       "  </thead>\n",
       "  <tbody>\n",
       "    <tr>\n",
       "      <th>Pass Accuracy</th>\n",
       "      <td>1.0</td>\n",
       "      <td>1.0</td>\n",
       "      <td>1.0</td>\n",
       "      <td>1.0</td>\n",
       "      <td>1.0</td>\n",
       "      <td>1.0</td>\n",
       "      <td>1.0</td>\n",
       "      <td>1.0</td>\n",
       "    </tr>\n",
       "    <tr>\n",
       "      <th>Average Possession Time</th>\n",
       "      <td>1.0</td>\n",
       "      <td>1.0</td>\n",
       "      <td>1.0</td>\n",
       "      <td>1.0</td>\n",
       "      <td>1.0</td>\n",
       "      <td>1.0</td>\n",
       "      <td>1.0</td>\n",
       "      <td>1.0</td>\n",
       "    </tr>\n",
       "    <tr>\n",
       "      <th>Average Pass Length</th>\n",
       "      <td>1.0</td>\n",
       "      <td>1.0</td>\n",
       "      <td>1.0</td>\n",
       "      <td>1.0</td>\n",
       "      <td>1.0</td>\n",
       "      <td>1.0</td>\n",
       "      <td>1.0</td>\n",
       "      <td>1.0</td>\n",
       "    </tr>\n",
       "    <tr>\n",
       "      <th>Average Passing Chains</th>\n",
       "      <td>1.0</td>\n",
       "      <td>1.0</td>\n",
       "      <td>1.0</td>\n",
       "      <td>1.0</td>\n",
       "      <td>1.0</td>\n",
       "      <td>1.0</td>\n",
       "      <td>1.0</td>\n",
       "      <td>1.0</td>\n",
       "    </tr>\n",
       "    <tr>\n",
       "      <th>Average Fouls</th>\n",
       "      <td>1.0</td>\n",
       "      <td>1.0</td>\n",
       "      <td>1.0</td>\n",
       "      <td>1.0</td>\n",
       "      <td>1.0</td>\n",
       "      <td>1.0</td>\n",
       "      <td>1.0</td>\n",
       "      <td>1.0</td>\n",
       "    </tr>\n",
       "    <tr>\n",
       "      <th>Average Yellow Cards</th>\n",
       "      <td>1.0</td>\n",
       "      <td>1.0</td>\n",
       "      <td>1.0</td>\n",
       "      <td>1.0</td>\n",
       "      <td>1.0</td>\n",
       "      <td>1.0</td>\n",
       "      <td>1.0</td>\n",
       "      <td>1.0</td>\n",
       "    </tr>\n",
       "    <tr>\n",
       "      <th>Average Red Cards</th>\n",
       "      <td>1.0</td>\n",
       "      <td>1.0</td>\n",
       "      <td>1.0</td>\n",
       "      <td>1.0</td>\n",
       "      <td>1.0</td>\n",
       "      <td>1.0</td>\n",
       "      <td>1.0</td>\n",
       "      <td>1.0</td>\n",
       "    </tr>\n",
       "    <tr>\n",
       "      <th>Percentage of Fouls that Lead to Cards</th>\n",
       "      <td>1.0</td>\n",
       "      <td>1.0</td>\n",
       "      <td>1.0</td>\n",
       "      <td>1.0</td>\n",
       "      <td>1.0</td>\n",
       "      <td>1.0</td>\n",
       "      <td>1.0</td>\n",
       "      <td>1.0</td>\n",
       "    </tr>\n",
       "  </tbody>\n",
       "</table>\n",
       "</div>"
      ],
      "text/plain": [
       "                                        Pass Accuracy  \\\n",
       "Pass Accuracy                                     1.0   \n",
       "Average Possession Time                           1.0   \n",
       "Average Pass Length                               1.0   \n",
       "Average Passing Chains                            1.0   \n",
       "Average Fouls                                     1.0   \n",
       "Average Yellow Cards                              1.0   \n",
       "Average Red Cards                                 1.0   \n",
       "Percentage of Fouls that Lead to Cards            1.0   \n",
       "\n",
       "                                        Average Possession Time  \\\n",
       "Pass Accuracy                                               1.0   \n",
       "Average Possession Time                                     1.0   \n",
       "Average Pass Length                                         1.0   \n",
       "Average Passing Chains                                      1.0   \n",
       "Average Fouls                                               1.0   \n",
       "Average Yellow Cards                                        1.0   \n",
       "Average Red Cards                                           1.0   \n",
       "Percentage of Fouls that Lead to Cards                      1.0   \n",
       "\n",
       "                                        Average Pass Length  \\\n",
       "Pass Accuracy                                           1.0   \n",
       "Average Possession Time                                 1.0   \n",
       "Average Pass Length                                     1.0   \n",
       "Average Passing Chains                                  1.0   \n",
       "Average Fouls                                           1.0   \n",
       "Average Yellow Cards                                    1.0   \n",
       "Average Red Cards                                       1.0   \n",
       "Percentage of Fouls that Lead to Cards                  1.0   \n",
       "\n",
       "                                        Average Passing Chains  Average Fouls  \\\n",
       "Pass Accuracy                                              1.0            1.0   \n",
       "Average Possession Time                                    1.0            1.0   \n",
       "Average Pass Length                                        1.0            1.0   \n",
       "Average Passing Chains                                     1.0            1.0   \n",
       "Average Fouls                                              1.0            1.0   \n",
       "Average Yellow Cards                                       1.0            1.0   \n",
       "Average Red Cards                                          1.0            1.0   \n",
       "Percentage of Fouls that Lead to Cards                     1.0            1.0   \n",
       "\n",
       "                                        Average Yellow Cards  \\\n",
       "Pass Accuracy                                            1.0   \n",
       "Average Possession Time                                  1.0   \n",
       "Average Pass Length                                      1.0   \n",
       "Average Passing Chains                                   1.0   \n",
       "Average Fouls                                            1.0   \n",
       "Average Yellow Cards                                     1.0   \n",
       "Average Red Cards                                        1.0   \n",
       "Percentage of Fouls that Lead to Cards                   1.0   \n",
       "\n",
       "                                        Average Red Cards  \\\n",
       "Pass Accuracy                                         1.0   \n",
       "Average Possession Time                               1.0   \n",
       "Average Pass Length                                   1.0   \n",
       "Average Passing Chains                                1.0   \n",
       "Average Fouls                                         1.0   \n",
       "Average Yellow Cards                                  1.0   \n",
       "Average Red Cards                                     1.0   \n",
       "Percentage of Fouls that Lead to Cards                1.0   \n",
       "\n",
       "                                        Percentage of Fouls that Lead to Cards  \n",
       "Pass Accuracy                                                              1.0  \n",
       "Average Possession Time                                                    1.0  \n",
       "Average Pass Length                                                        1.0  \n",
       "Average Passing Chains                                                     1.0  \n",
       "Average Fouls                                                              1.0  \n",
       "Average Yellow Cards                                                       1.0  \n",
       "Average Red Cards                                                          1.0  \n",
       "Percentage of Fouls that Lead to Cards                                     1.0  "
      ]
     },
     "execution_count": 45,
     "metadata": {},
     "output_type": "execute_result"
    }
   ],
   "source": [
    "correlation_matrix = df[['Pass Accuracy', 'Average Possession Time', 'Average Pass Length', 'Average Passing Chains', 'Average Fouls', 'Average Yellow Cards', 'Average Red Cards', 'Percentage of Fouls that Lead to Cards']].corr()\n",
    "correlation_matrix"
   ]
  }
 ],
 "metadata": {
  "kernelspec": {
   "display_name": "Python 3",
   "language": "python",
   "name": "python3"
  },
  "language_info": {
   "codemirror_mode": {
    "name": "ipython",
    "version": 3
   },
   "file_extension": ".py",
   "mimetype": "text/x-python",
   "name": "python",
   "nbconvert_exporter": "python",
   "pygments_lexer": "ipython3",
   "version": "3.9.6"
  }
 },
 "nbformat": 4,
 "nbformat_minor": 2
}
