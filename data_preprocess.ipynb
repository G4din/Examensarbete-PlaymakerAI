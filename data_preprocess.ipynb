{
 "cells": [
  {
   "cell_type": "markdown",
   "metadata": {},
   "source": [
    "# Data Preprocessing"
   ]
  },
  {
   "cell_type": "code",
   "execution_count": 35,
   "metadata": {},
   "outputs": [],
   "source": [
    "# Imports\n",
    "import json\n",
    "import pandas as pd\n",
    "import glob"
   ]
  },
  {
   "cell_type": "markdown",
   "metadata": {},
   "source": [
    "## Damallsvenskan "
   ]
  },
  {
   "cell_type": "code",
   "execution_count": 36,
   "metadata": {},
   "outputs": [],
   "source": [
    "# Get a list of all JSON file paths in the folders\n",
    "damallsvenskan2022 = glob.glob('event_data/Damallsvenskan_2022/*.json')\n",
    "damallsvenskan2021 = glob.glob('event_data/Damallsvenskan_2021/*.json')\n",
    "damallsvenskan2020 = glob.glob('event_data/Damallsvenskan_2020/*.json')\n",
    "damallsvenskan2019 = glob.glob('event_data/Damallsvenskan_2019/*.json')\n",
    "damallsvenskan2018 = glob.glob('event_data/Damallsvenskan_2018/*.json')\n",
    "\n",
    "# Initialize empty lists to store the data\n",
    "damallsvenskan2022_list = []\n",
    "damallsvenskan2021_list = []\n",
    "damallsvenskan2020_list = []\n",
    "damallsvenskan2019_list = []\n",
    "damallsvenskan2018_list = []\n",
    "\n",
    "def get_data(file_path, data_list):\n",
    "    # Iterate over the file paths\n",
    "    for file_path in file_path:\n",
    "        # Load JSON data from each file\n",
    "        with open(file_path) as file:\n",
    "            data = json.load(file)\n",
    "        \n",
    "        # Append the data to the list\n",
    "        data_list.append(data['events'])\n",
    "\n",
    "# Get the data from each file\n",
    "get_data(damallsvenskan2022, damallsvenskan2022_list)\n",
    "get_data(damallsvenskan2021, damallsvenskan2021_list)\n",
    "get_data(damallsvenskan2020, damallsvenskan2020_list)\n",
    "get_data(damallsvenskan2019, damallsvenskan2019_list)\n",
    "get_data(damallsvenskan2018, damallsvenskan2018_list)\n",
    "\n",
    "# Concatenate all the data into a single DataFrame\n",
    "damallsvenskan2022_df = pd.concat([pd.DataFrame(x) for x in damallsvenskan2022_list])\n",
    "damallsvenskan2021_df = pd.concat([pd.DataFrame(x) for x in damallsvenskan2021_list])\n",
    "damallsvenskan2020_df = pd.concat([pd.DataFrame(x) for x in damallsvenskan2020_list])\n",
    "damallsvenskan2019_df = pd.concat([pd.DataFrame(x) for x in damallsvenskan2019_list])\n",
    "damallsvenskan2018_df = pd.concat([pd.DataFrame(x) for x in damallsvenskan2018_list])\n",
    "\n",
    "# Save the data to CSV files\n",
    "damallsvenskan2022_df.to_csv('csv/damallsvenskan2022.csv', index=False)\n",
    "damallsvenskan2021_df.to_csv('csv/damallsvenskan2021.csv', index=False)\n",
    "damallsvenskan2020_df.to_csv('csv/damallsvenskan2020.csv', index=False)\n",
    "damallsvenskan2019_df.to_csv('csv/damallsvenskan2019.csv', index=False)\n",
    "damallsvenskan2018_df.to_csv('csv/damallsvenskan2018.csv', index=False)\n",
    "\n",
    "#Create a CSV files for all seasons combined\n",
    "damallsvenskan_all = pd.concat([damallsvenskan2022_df, damallsvenskan2021_df, damallsvenskan2020_df, damallsvenskan2019_df, damallsvenskan2018_df])\n",
    "damallsvenskan_all.to_csv('csv/damallsvenskan_all.csv', index=False)"
   ]
  },
  {
   "cell_type": "markdown",
   "metadata": {},
   "source": [
    "## Allsvenskan"
   ]
  },
  {
   "cell_type": "code",
   "execution_count": 37,
   "metadata": {},
   "outputs": [],
   "source": [
    "# Get a list of all JSON file paths in the folders\n",
    "allsvenskan2022 = glob.glob('event_data/Allsvenskan_2022/*.json')\n",
    "allsvenskan2021 = glob.glob('event_data/Allsvenskan_2021/*.json')\n",
    "allsvenskan2020 = glob.glob('event_data/Allsvenskan_2020/*.json')\n",
    "allsvenskan2019 = glob.glob('event_data/Allsvenskan_2019/*.json')\n",
    "allsvenskan2018 = glob.glob('event_data/Allsvenskan_2018/*.json')\n",
    "\n",
    "# Initialize empty lists to store the data\n",
    "allsvenskan2022_list = []\n",
    "allsvenskan2021_list = []\n",
    "allsvenskan2020_list = []\n",
    "allsvenskan2019_list = []\n",
    "allsvenskan2018_list = []\n",
    "\n",
    "def get_data(file_path, data_list):\n",
    "    # Iterate over the file paths\n",
    "    for file_path in file_path:\n",
    "        # Load JSON data from each file\n",
    "        with open(file_path) as file:\n",
    "            data = json.load(file)\n",
    "        \n",
    "        # Append the data to the list\n",
    "        data_list.append(data['events'])\n",
    "\n",
    "# Get the data from each file\n",
    "get_data(allsvenskan2022, allsvenskan2022_list)\n",
    "get_data(allsvenskan2021, allsvenskan2021_list)\n",
    "get_data(allsvenskan2020, allsvenskan2020_list)\n",
    "get_data(allsvenskan2019, allsvenskan2019_list)\n",
    "get_data(allsvenskan2018, allsvenskan2018_list)\n",
    "\n",
    "# Concatenate all the data into a single DataFrame\n",
    "allsvenskan2022_df = pd.concat([pd.DataFrame(x) for x in allsvenskan2022_list])\n",
    "allsvenskan2021_df = pd.concat([pd.DataFrame(x) for x in allsvenskan2021_list])\n",
    "allsvenskan2020_df = pd.concat([pd.DataFrame(x) for x in allsvenskan2020_list])\n",
    "allsvenskan2019_df = pd.concat([pd.DataFrame(x) for x in allsvenskan2019_list])\n",
    "allsvenskan2018_df = pd.concat([pd.DataFrame(x) for x in allsvenskan2018_list])\n",
    "\n",
    "# Save the data to CSV files\n",
    "allsvenskan2022_df.to_csv('csv/allsvenskan2022.csv', index=False)\n",
    "allsvenskan2021_df.to_csv('csv/allsvenskan2021.csv', index=False)\n",
    "allsvenskan2020_df.to_csv('csv/allsvenskan2020.csv', index=False)\n",
    "allsvenskan2019_df.to_csv('csv/allsvenskan2019.csv', index=False)\n",
    "allsvenskan2018_df.to_csv('csv/allsvenskan2018.csv', index=False)\n",
    "\n",
    "# Create a CSV files for all seasons combined\n",
    "allsvenskan_all = pd.concat([allsvenskan2022_df, allsvenskan2021_df, allsvenskan2020_df, allsvenskan2019_df, allsvenskan2018_df])\n",
    "allsvenskan_all.to_csv('csv/allsvenskan_all.csv', index=False)"
   ]
  }
 ],
 "metadata": {
  "kernelspec": {
   "display_name": "Python 3",
   "language": "python",
   "name": "python3"
  },
  "language_info": {
   "codemirror_mode": {
    "name": "ipython",
    "version": 3
   },
   "file_extension": ".py",
   "mimetype": "text/x-python",
   "name": "python",
   "nbconvert_exporter": "python",
   "pygments_lexer": "ipython3",
   "version": "3.9.6"
  }
 },
 "nbformat": 4,
 "nbformat_minor": 2
}
